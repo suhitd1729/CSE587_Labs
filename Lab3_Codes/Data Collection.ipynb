{
 "cells": [
  {
   "cell_type": "code",
   "execution_count": 56,
   "metadata": {
    "collapsed": true
   },
   "outputs": [],
   "source": [
    "import urllib.request, json\n",
    "urlContainer = []\n",
    "urlLink = \"http://api.nytimes.com/svc/search/v2/articlesearch.json?q=business&page=15&fq=news_desk:(%22business%22)sort=oldest&api-key=f730733c6a714eeaac5dfcb970410eb4\""
   ]
  },
  {
   "cell_type": "code",
   "execution_count": 57,
   "metadata": {
    "collapsed": true
   },
   "outputs": [],
   "source": [
    "with urllib.request.urlopen(urlLink) as url:\n",
    "    data = json.loads(url.read().decode())"
   ]
  },
  {
   "cell_type": "code",
   "execution_count": 58,
   "metadata": {
    "collapsed": true
   },
   "outputs": [],
   "source": [
    "d1 = json.dumps(data)\n",
    "#print(d1)\n",
    "jsonDict = json.loads(d1)"
   ]
  },
  {
   "cell_type": "code",
   "execution_count": 59,
   "metadata": {
    "collapsed": true
   },
   "outputs": [],
   "source": [
    "urlList = []\n",
    "for eachNode in jsonDict['response']['docs']:\n",
    "    text = eachNode[\"web_url\"]\n",
    "    urlList.append(text)\n",
    "#print(urlList)"
   ]
  },
  {
   "cell_type": "code",
   "execution_count": 60,
   "metadata": {
    "collapsed": true
   },
   "outputs": [],
   "source": [
    "import urllib3\n",
    "import requests\n",
    "import os.path\n",
    "import codecs\n",
    "from bs4 import BeautifulSoup\n",
    "def getTextFromSoup(soup):\n",
    "    div_box = soup.find('div', attrs={'class': 'story-body story-body-1'})\n",
    "    scrappedText = \"\"\n",
    "    p_box = soup.find_all('p', attrs={'class': 'story-body-text story-content'})\n",
    "    for eachP in p_box :\n",
    "        scrappedText = scrappedText + eachP.get_text()\n",
    "    return scrappedText\n",
    "\n",
    "for i in range(len(urlList)):\n",
    "    #NYTText=\"\"\n",
    "    urllink = urlList[i]\n",
    "    response = requests.get(urllink)\n",
    "    soup = BeautifulSoup(response.content, \"html.parser\")\n",
    "    textVal = getTextFromSoup(soup)\n",
    "    #NYTText = NYTText + textVal\n",
    "    filename =\"C:\\\\Users\\\\sourav\\\\Technology Test\\\\Technology\" + str(30+i) +\".txt\"\n",
    "    fp = codecs.open(filename, \"w\", \"utf-8\")\n",
    "    #fp.write(NYTText)\n",
    "    fp.write(textVal)\n",
    "    fp.write(\"\\n\")\n",
    "    fp.close()"
   ]
  },
  {
   "cell_type": "code",
   "execution_count": null,
   "metadata": {
    "collapsed": true
   },
   "outputs": [],
   "source": []
  },
  {
   "cell_type": "code",
   "execution_count": null,
   "metadata": {
    "collapsed": true
   },
   "outputs": [],
   "source": []
  }
 ],
 "metadata": {
  "kernelspec": {
   "display_name": "Python 3",
   "language": "python",
   "name": "python3"
  },
  "language_info": {
   "codemirror_mode": {
    "name": "ipython",
    "version": 3
   },
   "file_extension": ".py",
   "mimetype": "text/x-python",
   "name": "python",
   "nbconvert_exporter": "python",
   "pygments_lexer": "ipython3",
   "version": "3.6.3"
  }
 },
 "nbformat": 4,
 "nbformat_minor": 2
}
